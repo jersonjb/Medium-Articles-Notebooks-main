{
 "cells": [
  {
   "cell_type": "markdown",
   "id": "2731415f-ec5f-4abf-9f66-88248866c211",
   "metadata": {},
   "source": [
    "# Pandas Vs. Polars Vs. Vaex - A Benchmarking Analysis.     \n",
    "@Author: Zoumana Keita"
   ]
  },
  {
   "cell_type": "code",
   "execution_count": 1,
   "id": "2902225c-7559-4f77-aed6-b80e0bb1670f",
   "metadata": {},
   "outputs": [],
   "source": [
    "import warnings\n",
    "warnings.filterwarnings('ignore')"
   ]
  },
  {
   "cell_type": "code",
   "execution_count": 42,
   "id": "4dcd7a08-dadf-48d7-82ea-e8a7f0df44ce",
   "metadata": {},
   "outputs": [],
   "source": [
    "#%%bash \n",
    "#pip3 install polars\n",
    "#pip3 install pandas\n",
    "#!pip3 install seaborn"
   ]
  },
  {
   "cell_type": "code",
   "execution_count": 2,
   "id": "5b159d84-d27b-45f7-9ef6-77a922ada9a3",
   "metadata": {},
   "outputs": [],
   "source": [
    "import pandas as pd \n",
    "import vaex as vx \n",
    "import polars as pl \n",
    "import time\n",
    "import seaborn as sns"
   ]
  },
  {
   "cell_type": "markdown",
   "id": "160dc84b-ea73-4c5b-8c99-c5ed13173248",
   "metadata": {},
   "source": [
    "## Create the benchmarking data"
   ]
  },
  {
   "cell_type": "code",
   "execution_count": null,
   "id": "b7c48593-751a-4ce1-955a-36064fab7915",
   "metadata": {},
   "outputs": [],
   "source": [
    "df = pd.read_csv(\"./data/benchmark_data.csv\")\n",
    "\n",
    "#benchmarking_df = df.loc[df.index.repeat(100000)]\n",
    "benchmarking_df = df.loc[df.index.repeat(50000)]\n",
    "\n",
    "# Store the data for experimentation\n",
    "benchmarking_df.to_csv(\"./data/diabetes_benchmark_data.csv\")"
   ]
  },
  {
   "cell_type": "markdown",
   "id": "3cda89a6-8427-4fc5-85ab-a5cafa6804ec",
   "metadata": {},
   "source": [
    "## 1. Data Loading"
   ]
  },
  {
   "cell_type": "code",
   "execution_count": 73,
   "id": "c8162320-1f63-4ad9-9074-92fc19fc529b",
   "metadata": {},
   "outputs": [],
   "source": [
    "# Initialize the benchmarking dictionary\n",
    "loading_times = {}\n",
    "\n",
    "# Benchmarking data path\n",
    "benchmarking_data_path = \"./data/diabetes_benchmark_data.csv\""
   ]
  },
  {
   "cell_type": "code",
   "execution_count": 74,
   "id": "b96e3503-0ce9-4aed-88e5-a2459c96692d",
   "metadata": {},
   "outputs": [],
   "source": [
    "# Helper function to perform the benchmarking analysis\n",
    "\n",
    "def data_loading(library, data_path):\n",
    "    \n",
    "    lib = library.lower()\n",
    "    \n",
    "    match lib:\n",
    "        \n",
    "        case \"pandas\":\n",
    "            t_start = time.time()\n",
    "            pd_df = pd.read_csv(data_path)\n",
    "            t_end = time.time() - t_start\n",
    "  \n",
    "            \n",
    "        case \"polars\":\n",
    "            t_start = time.time()\n",
    "            pl_df = pl.read_csv(data_path)\n",
    "            t_end = time.time() - t_start\n",
    "\n",
    "    loading_times[lib] = t_end\n",
    "            \n",
    "        \n",
    "# Helper function to plot the times\n",
    "\n",
    "def plot_time(benchmark_time, plot_title):\n",
    "    \n",
    "    libraries = list(benchmark_time.keys())\n",
    "    times = [float(t) for t in list(benchmark_time.values())]\n",
    "    loading_plot = sns.barplot(x=libraries, y=times)\n",
    "\n",
    "    loading_plot.set(xlabel =\"Libraries\", ylabel = \"Time\", title =plot_title)"
   ]
  },
  {
   "cell_type": "code",
   "execution_count": 75,
   "id": "6098e966-5572-42dd-a30b-a61ee8e5024a",
   "metadata": {},
   "outputs": [
    {
     "data": {
      "text/plain": [
       "{}"
      ]
     },
     "execution_count": 75,
     "metadata": {},
     "output_type": "execute_result"
    }
   ],
   "source": [
    "loading_times"
   ]
  },
  {
   "cell_type": "markdown",
   "id": "17f4f4e4-a984-4fb4-bbad-e363b6293c32",
   "metadata": {},
   "source": [
    "### Pandas"
   ]
  },
  {
   "cell_type": "code",
   "execution_count": 76,
   "id": "6c674043-3d00-4575-985e-01eb65296a6d",
   "metadata": {},
   "outputs": [],
   "source": [
    "data_loading(\"pandas\", benchmarking_data_path)"
   ]
  },
  {
   "cell_type": "markdown",
   "id": "0df1ddb9-9422-480e-b738-768a500bc724",
   "metadata": {},
   "source": [
    "### Polars"
   ]
  },
  {
   "cell_type": "code",
   "execution_count": 77,
   "id": "abef952c-a44b-4c29-b008-b73a2ae71140",
   "metadata": {},
   "outputs": [],
   "source": [
    "data_loading(\"polars\", benchmarking_data_path)"
   ]
  },
  {
   "cell_type": "code",
   "execution_count": 78,
   "id": "1bc731da-626e-4e5f-9ee9-67c4d22844d7",
   "metadata": {},
   "outputs": [
    {
     "data": {
      "image/png": "[encoded data removed]",
      "text/plain": [
       "<Figure size 640x480 with 1 Axes>"
      ]
     },
     "metadata": {},
     "output_type": "display_data"
    }
   ],
   "source": [
    "plot_time(loading_times, \"Loading Time\")"
   ]
  },
  {
   "cell_type": "code",
   "execution_count": 81,
   "id": "153a27f5-0690-4426-a834-df23b9f98b53",
   "metadata": {},
   "outputs": [
    {
     "data": {
      "text/plain": [
       "{'pandas': 28.517988204956055, 'polars': 10.196640968322754}"
      ]
     },
     "execution_count": 81,
     "metadata": {},
     "output_type": "execute_result"
    }
   ],
   "source": [
    "loading_times"
   ]
  },
  {
   "cell_type": "markdown",
   "id": "39e8b162-0ad9-4e5c-91eb-635c431fd7aa",
   "metadata": {},
   "source": [
    "## 2. Data Offloading"
   ]
  },
  {
   "cell_type": "code",
   "execution_count": 90,
   "id": "e40102ed-19f5-4d88-9002-d5ab71f770e2",
   "metadata": {},
   "outputs": [],
   "source": [
    "offloading_times = {}"
   ]
  },
  {
   "cell_type": "code",
   "execution_count": 82,
   "id": "abdef336-e8a2-4941-8189-8396e9a735e1",
   "metadata": {},
   "outputs": [],
   "source": [
    "# Offloading function\n",
    "def offdata_loading(library, df):\n",
    "    \n",
    "    lib = library.lower()\n",
    "    \n",
    "    if(lib == \"pandas\" or lib == \"polars\"):\n",
    "        t_start = time.time()\n",
    "        df.to_numpy()\n",
    "        t_end = time.time() - t_start  \n",
    "    \n",
    "    offloading_times[lib] = t_end    "
   ]
  },
  {
   "cell_type": "code",
   "execution_count": 83,
   "id": "fab01bc9-d7a3-4af2-8dc6-b59a7599cd4a",
   "metadata": {},
   "outputs": [],
   "source": [
    "pd_df = pd.read_csv(benchmarking_data_path)\n",
    "pl_df = pl.read_csv(benchmarking_data_path)"
   ]
  },
  {
   "cell_type": "code",
   "execution_count": 91,
   "id": "5bcfbb32-e896-447b-8c12-1ce77afa0f05",
   "metadata": {},
   "outputs": [],
   "source": [
    "offdata_loading(\"pandas\", pd_df)\n",
    "offdata_loading(\"polars\", pl_df)"
   ]
  },
  {
   "cell_type": "code",
   "execution_count": 92,
   "id": "70443aa2-efa9-47e1-8700-51475a48b4f2",
   "metadata": {},
   "outputs": [
    {
     "data": {
      "text/plain": [
       "{'pandas': 2.8378379344940186, 'polars': 2.2786760330200195}"
      ]
     },
     "execution_count": 92,
     "metadata": {},
     "output_type": "execute_result"
    }
   ],
   "source": [
    "offloading_times"
   ]
  },
  {
   "cell_type": "code",
   "execution_count": 93,
   "id": "e51dbf66-e305-4393-bbbc-62bc0f6a05d3",
   "metadata": {},
   "outputs": [
    {
     "data": {
      "image/png": "[encoded data removed]",
      "text/plain": [
       "<Figure size 640x480 with 1 Axes>"
      ]
     },
     "metadata": {},
     "output_type": "display_data"
    }
   ],
   "source": [
    "plot_time(offloading_times, \"Offloading Time\")"
   ]
  },
  {
   "cell_type": "markdown",
   "id": "991f92db-4608-4e56-b605-bc9bbdb879db",
   "metadata": {},
   "source": [
    "## 3. Data Grouping"
   ]
  },
  {
   "cell_type": "code",
   "execution_count": 94,
   "id": "8e048f46-be10-4baf-bea3-a357794b482c",
   "metadata": {},
   "outputs": [],
   "source": [
    "aggregation_time = {}"
   ]
  },
  {
   "cell_type": "code",
   "execution_count": 95,
   "id": "bbaf56a0-39d0-41de-9719-78cd6b9f6430",
   "metadata": {},
   "outputs": [],
   "source": [
    "def grouping_data(library, df):\n",
    "    \n",
    "    lib = library.lower()\n",
    "    \n",
    "    if(library == \"pandas\"):\n",
    "        \n",
    "        t_start = time.time()  \n",
    "        df.groupby([\"Outcome\"], \n",
    "                      as_index = False)[['Age']].mean()\n",
    "        t_end = time.time() - t_start\n",
    "        \n",
    "    elif(library == \"polars\"):\n",
    "        t_start = time.time()  \n",
    "        df.groupby(['Outcome']).agg(pl.col(\"Age\").mean())\n",
    "        t_end = time.time() - t_start        \n",
    "        \n",
    "    aggregation_time[lib] = t_end"
   ]
  },
  {
   "cell_type": "code",
   "execution_count": 96,
   "id": "b05f693b-394a-46de-8686-1d4126f27d43",
   "metadata": {},
   "outputs": [],
   "source": [
    "grouping_data(\"pandas\", pd_df)\n",
    "grouping_data(\"polars\", pl_df)"
   ]
  },
  {
   "cell_type": "code",
   "execution_count": 97,
   "id": "cc04f5ee-7dd1-426e-9fa5-3fba20f223cf",
   "metadata": {},
   "outputs": [
    {
     "data": {
      "image/png": "[encoded data removed]",
      "text/plain": [
       "<Figure size 640x480 with 1 Axes>"
      ]
     },
     "metadata": {},
     "output_type": "display_data"
    }
   ],
   "source": [
    "plot_time(aggregation_time, \"Aggregation Time\")"
   ]
  },
  {
   "cell_type": "code",
   "execution_count": 98,
   "id": "14889b74-9afe-432a-8bb9-5d0ee36563ce",
   "metadata": {},
   "outputs": [
    {
     "data": {
      "text/plain": [
       "{'pandas': 1.1558399200439453, 'polars': 0.22764992713928223}"
      ]
     },
     "execution_count": 98,
     "metadata": {},
     "output_type": "execute_result"
    }
   ],
   "source": [
    "aggregation_time"
   ]
  },
  {
   "cell_type": "markdown",
   "id": "3d8d208d-a8b8-4526-a2c0-82c344af7f60",
   "metadata": {},
   "source": [
    "## 4. Data Sorting"
   ]
  },
  {
   "cell_type": "code",
   "execution_count": 103,
   "id": "581dd832-657d-45d4-8790-44bc71b4f469",
   "metadata": {},
   "outputs": [],
   "source": [
    "sorting_time = {}"
   ]
  },
  {
   "cell_type": "code",
   "execution_count": 99,
   "id": "c88eb3fe-760e-4617-901b-fe3eab809690",
   "metadata": {},
   "outputs": [],
   "source": [
    "def sorting_data(library, df):\n",
    "    \n",
    "    lib = library.lower()\n",
    "    \n",
    "    if(library == \"pandas\"):\n",
    "        \n",
    "        t_start = time.time()  \n",
    "        df.sort_values(by='Pregnancies')\n",
    "        t_end = time.time() - t_start\n",
    "        \n",
    "    elif(library == \"polars\"):\n",
    "        t_start = time.time()  \n",
    "        df.sort(['Pregnancies'])\n",
    "        t_end = time.time() - t_start        \n",
    "        \n",
    "    sorting_time[lib] = t_end"
   ]
  },
  {
   "cell_type": "code",
   "execution_count": 104,
   "id": "1799d51f-7599-4ec6-992e-94a4c8acd777",
   "metadata": {},
   "outputs": [],
   "source": [
    "sorting_data(\"pandas\", pd_df)\n",
    "sorting_data(\"polars\", pl_df)"
   ]
  },
  {
   "cell_type": "code",
   "execution_count": 105,
   "id": "9be902d0-7f24-4c2f-88a3-23d4b174c181",
   "metadata": {},
   "outputs": [
    {
     "data": {
      "image/png": "[encoded data removed]",
      "text/plain": [
       "<Figure size 640x480 with 1 Axes>"
      ]
     },
     "metadata": {},
     "output_type": "display_data"
    }
   ],
   "source": [
    "plot_time(sorting_time, \"Sorting Time\")"
   ]
  },
  {
   "cell_type": "code",
   "execution_count": 106,
   "id": "64e4c83c-1044-44ae-be3b-0f0c953311c9",
   "metadata": {},
   "outputs": [
    {
     "data": {
      "text/plain": [
       "{'pandas': 6.49990701675415, 'polars': 2.197705030441284}"
      ]
     },
     "execution_count": 106,
     "metadata": {},
     "output_type": "execute_result"
    }
   ],
   "source": [
    "sorting_time"
   ]
  },
  {
   "cell_type": "markdown",
   "id": "c2f35720-e1a1-49d9-9284-502ad82ac321",
   "metadata": {},
   "source": [
    "## 5. Data Filtering"
   ]
  },
  {
   "cell_type": "code",
   "execution_count": 110,
   "id": "5398016f-ab2f-4dfe-9e10-ca1769084ad7",
   "metadata": {},
   "outputs": [],
   "source": [
    "filtering_time = {}"
   ]
  },
  {
   "cell_type": "code",
   "execution_count": 107,
   "id": "9c410eef-1e8a-4e44-bb13-b7445da048e4",
   "metadata": {},
   "outputs": [],
   "source": [
    "def filtering_data(library, df, column_name, value):\n",
    "    \n",
    "    lib = library.lower()\n",
    "    \n",
    "    if(library == \"pandas\"):\n",
    "        \n",
    "        t_start = time.time()  \n",
    "        pd_df[pd_df[str(column_name)] > value]\n",
    "        t_end = time.time() - t_start\n",
    "        \n",
    "    elif(library == \"polars\"):\n",
    "        t_start = time.time()  \n",
    "        df.filter(pl.col(str(column_name)) > value)\n",
    "        t_end = time.time() - t_start        \n",
    "        \n",
    "    filtering_time[lib] = t_end"
   ]
  },
  {
   "cell_type": "code",
   "execution_count": 111,
   "id": "1bce9833-3385-4a67-900e-9bea5c61ec68",
   "metadata": {},
   "outputs": [],
   "source": [
    "filtering_data(\"pandas\", pd_df, \"BloodPressure\", 74)\n",
    "filtering_data(\"polars\", pl_df, \"BloodPressure\", 74)"
   ]
  },
  {
   "cell_type": "code",
   "execution_count": 112,
   "id": "9ba365d2-5529-4b06-9e03-806d9e70d408",
   "metadata": {},
   "outputs": [
    {
     "data": {
      "image/png": "[encoded data removed]",
      "text/plain": [
       "<Figure size 640x480 with 1 Axes>"
      ]
     },
     "metadata": {},
     "output_type": "display_data"
    }
   ],
   "source": [
    "plot_time(filtering_time, \"Filtering Time\")"
   ]
  },
  {
   "cell_type": "code",
   "execution_count": 113,
   "id": "d597ddc0-d065-4aa4-8209-77c43c68f2fb",
   "metadata": {},
   "outputs": [
    {
     "data": {
      "text/plain": [
       "{'pandas': 1.1616041660308838, 'polars': 0.24312996864318848}"
      ]
     },
     "execution_count": 113,
     "metadata": {},
     "output_type": "execute_result"
    }
   ],
   "source": [
    "filtering_time"
   ]
  },
  {
   "cell_type": "code",
   "execution_count": null,
   "id": "c07bf5cc-5951-40ca-a3d6-a5aa186db5de",
   "metadata": {},
   "outputs": [],
   "source": []
  }
 ],
 "metadata": {
  "kernelspec": {
   "display_name": "Python 3 (ipykernel)",
   "language": "python",
   "name": "python3"
  },
  "language_info": {
   "codemirror_mode": {
    "name": "ipython",
    "version": 3
   },
   "file_extension": ".py",
   "mimetype": "text/x-python",
   "name": "python",
   "nbconvert_exporter": "python",
   "pygments_lexer": "ipython3",
   "version": "3.10.8"
  }
 },
 "nbformat": 4,
 "nbformat_minor": 5
}
