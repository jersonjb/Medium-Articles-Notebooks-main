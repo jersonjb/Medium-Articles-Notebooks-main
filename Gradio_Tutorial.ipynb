{
 "cells": [
  {
   "cell_type": "markdown",
   "id": "72dcaa34-e9f5-4a2d-9aff-43e7ec893484",
   "metadata": {},
   "source": [
    "# Gradio End-to-end Machine Learning Tutorial"
   ]
  },
  {
   "cell_type": "markdown",
   "id": "0bd95e72-6da3-410d-99d1-f083d2d68fc2",
   "metadata": {
    "tags": []
   },
   "source": [
    "## 1. Build Machine Learning Model"
   ]
  },
  {
   "cell_type": "markdown",
   "id": "5fb7e9f7-4cd7-4831-8240-bffa941632ff",
   "metadata": {
    "tags": []
   },
   "source": [
    "### a. Exploratory Data Analysis"
   ]
  },
  {
   "cell_type": "code",
   "execution_count": 2,
   "id": "323c58c9-07a9-49e9-b9e3-a3bff8592ede",
   "metadata": {},
   "outputs": [
    {
     "data": {
      "text/html": [
       "<div>\n",
       "<style scoped>\n",
       "    .dataframe tbody tr th:only-of-type {\n",
       "        vertical-align: middle;\n",
       "    }\n",
       "\n",
       "    .dataframe tbody tr th {\n",
       "        vertical-align: top;\n",
       "    }\n",
       "\n",
       "    .dataframe thead th {\n",
       "        text-align: right;\n",
       "    }\n",
       "</style>\n",
       "<table border=\"1\" class=\"dataframe\">\n",
       "  <thead>\n",
       "    <tr style=\"text-align: right;\">\n",
       "      <th></th>\n",
       "      <th>v1</th>\n",
       "      <th>v2</th>\n",
       "      <th>Unnamed: 2</th>\n",
       "      <th>Unnamed: 3</th>\n",
       "      <th>Unnamed: 4</th>\n",
       "    </tr>\n",
       "  </thead>\n",
       "  <tbody>\n",
       "    <tr>\n",
       "      <th>0</th>\n",
       "      <td>ham</td>\n",
       "      <td>Go until jurong point, crazy.. Available only ...</td>\n",
       "      <td>NaN</td>\n",
       "      <td>NaN</td>\n",
       "      <td>NaN</td>\n",
       "    </tr>\n",
       "    <tr>\n",
       "      <th>1</th>\n",
       "      <td>ham</td>\n",
       "      <td>Ok lar... Joking wif u oni...</td>\n",
       "      <td>NaN</td>\n",
       "      <td>NaN</td>\n",
       "      <td>NaN</td>\n",
       "    </tr>\n",
       "    <tr>\n",
       "      <th>2</th>\n",
       "      <td>spam</td>\n",
       "      <td>Free entry in 2 a wkly comp to win FA Cup fina...</td>\n",
       "      <td>NaN</td>\n",
       "      <td>NaN</td>\n",
       "      <td>NaN</td>\n",
       "    </tr>\n",
       "    <tr>\n",
       "      <th>3</th>\n",
       "      <td>ham</td>\n",
       "      <td>U dun say so early hor... U c already then say...</td>\n",
       "      <td>NaN</td>\n",
       "      <td>NaN</td>\n",
       "      <td>NaN</td>\n",
       "    </tr>\n",
       "    <tr>\n",
       "      <th>4</th>\n",
       "      <td>ham</td>\n",
       "      <td>Nah I don't think he goes to usf, he lives aro...</td>\n",
       "      <td>NaN</td>\n",
       "      <td>NaN</td>\n",
       "      <td>NaN</td>\n",
       "    </tr>\n",
       "  </tbody>\n",
       "</table>\n",
       "</div>"
      ],
      "text/plain": [
       "     v1                                                 v2 Unnamed: 2  \\\n",
       "0   ham  Go until jurong point, crazy.. Available only ...        NaN   \n",
       "1   ham                      Ok lar... Joking wif u oni...        NaN   \n",
       "2  spam  Free entry in 2 a wkly comp to win FA Cup fina...        NaN   \n",
       "3   ham  U dun say so early hor... U c already then say...        NaN   \n",
       "4   ham  Nah I don't think he goes to usf, he lives aro...        NaN   \n",
       "\n",
       "  Unnamed: 3 Unnamed: 4  \n",
       "0        NaN        NaN  \n",
       "1        NaN        NaN  \n",
       "2        NaN        NaN  \n",
       "3        NaN        NaN  \n",
       "4        NaN        NaN  "
      ]
     },
     "execution_count": 2,
     "metadata": {},
     "output_type": "execute_result"
    }
   ],
   "source": [
    "# Load the data\n",
    "import pandas as pd\n",
    "\n",
    "spam_data = pd.read_csv(\"./data/spam.csv\", encoding=\"latin-1\")\n",
    "spam_data.head()"
   ]
  },
  {
   "cell_type": "code",
   "execution_count": 3,
   "id": "f0a09c2e-2654-4abf-a7c8-666e74d29699",
   "metadata": {
    "tags": []
   },
   "outputs": [
    {
     "data": {
      "text/html": [
       "<div>\n",
       "<style scoped>\n",
       "    .dataframe tbody tr th:only-of-type {\n",
       "        vertical-align: middle;\n",
       "    }\n",
       "\n",
       "    .dataframe tbody tr th {\n",
       "        vertical-align: top;\n",
       "    }\n",
       "\n",
       "    .dataframe thead th {\n",
       "        text-align: right;\n",
       "    }\n",
       "</style>\n",
       "<table border=\"1\" class=\"dataframe\">\n",
       "  <thead>\n",
       "    <tr style=\"text-align: right;\">\n",
       "      <th></th>\n",
       "      <th>v1</th>\n",
       "      <th>v2</th>\n",
       "    </tr>\n",
       "  </thead>\n",
       "  <tbody>\n",
       "    <tr>\n",
       "      <th>0</th>\n",
       "      <td>ham</td>\n",
       "      <td>Go until jurong point, crazy.. Available only ...</td>\n",
       "    </tr>\n",
       "    <tr>\n",
       "      <th>1</th>\n",
       "      <td>ham</td>\n",
       "      <td>Ok lar... Joking wif u oni...</td>\n",
       "    </tr>\n",
       "    <tr>\n",
       "      <th>2</th>\n",
       "      <td>spam</td>\n",
       "      <td>Free entry in 2 a wkly comp to win FA Cup fina...</td>\n",
       "    </tr>\n",
       "    <tr>\n",
       "      <th>3</th>\n",
       "      <td>ham</td>\n",
       "      <td>U dun say so early hor... U c already then say...</td>\n",
       "    </tr>\n",
       "    <tr>\n",
       "      <th>4</th>\n",
       "      <td>ham</td>\n",
       "      <td>Nah I don't think he goes to usf, he lives aro...</td>\n",
       "    </tr>\n",
       "    <tr>\n",
       "      <th>...</th>\n",
       "      <td>...</td>\n",
       "      <td>...</td>\n",
       "    </tr>\n",
       "    <tr>\n",
       "      <th>5567</th>\n",
       "      <td>spam</td>\n",
       "      <td>This is the 2nd time we have tried 2 contact u...</td>\n",
       "    </tr>\n",
       "    <tr>\n",
       "      <th>5568</th>\n",
       "      <td>ham</td>\n",
       "      <td>Will Ì_ b going to esplanade fr home?</td>\n",
       "    </tr>\n",
       "    <tr>\n",
       "      <th>5569</th>\n",
       "      <td>ham</td>\n",
       "      <td>Pity, * was in mood for that. So...any other s...</td>\n",
       "    </tr>\n",
       "    <tr>\n",
       "      <th>5570</th>\n",
       "      <td>ham</td>\n",
       "      <td>The guy did some bitching but I acted like i'd...</td>\n",
       "    </tr>\n",
       "    <tr>\n",
       "      <th>5571</th>\n",
       "      <td>ham</td>\n",
       "      <td>Rofl. Its true to its name</td>\n",
       "    </tr>\n",
       "  </tbody>\n",
       "</table>\n",
       "<p>5572 rows × 2 columns</p>\n",
       "</div>"
      ],
      "text/plain": [
       "        v1                                                 v2\n",
       "0      ham  Go until jurong point, crazy.. Available only ...\n",
       "1      ham                      Ok lar... Joking wif u oni...\n",
       "2     spam  Free entry in 2 a wkly comp to win FA Cup fina...\n",
       "3      ham  U dun say so early hor... U c already then say...\n",
       "4      ham  Nah I don't think he goes to usf, he lives aro...\n",
       "...    ...                                                ...\n",
       "5567  spam  This is the 2nd time we have tried 2 contact u...\n",
       "5568   ham              Will Ì_ b going to esplanade fr home?\n",
       "5569   ham  Pity, * was in mood for that. So...any other s...\n",
       "5570   ham  The guy did some bitching but I acted like i'd...\n",
       "5571   ham                         Rofl. Its true to its name\n",
       "\n",
       "[5572 rows x 2 columns]"
      ]
     },
     "execution_count": 3,
     "metadata": {},
     "output_type": "execute_result"
    }
   ],
   "source": [
    "spam_data = spam_data[['v1', 'v2']]\n",
    "spam_data"
   ]
  },
  {
   "cell_type": "code",
   "execution_count": 4,
   "id": "6e2c1c2a-e6bb-43f5-9e1b-c1512c6312d0",
   "metadata": {
    "tags": []
   },
   "outputs": [
    {
     "data": {
      "text/html": [
       "<div>\n",
       "<style scoped>\n",
       "    .dataframe tbody tr th:only-of-type {\n",
       "        vertical-align: middle;\n",
       "    }\n",
       "\n",
       "    .dataframe tbody tr th {\n",
       "        vertical-align: top;\n",
       "    }\n",
       "\n",
       "    .dataframe thead th {\n",
       "        text-align: right;\n",
       "    }\n",
       "</style>\n",
       "<table border=\"1\" class=\"dataframe\">\n",
       "  <thead>\n",
       "    <tr style=\"text-align: right;\">\n",
       "      <th></th>\n",
       "      <th>target</th>\n",
       "      <th>text</th>\n",
       "    </tr>\n",
       "  </thead>\n",
       "  <tbody>\n",
       "    <tr>\n",
       "      <th>0</th>\n",
       "      <td>ham</td>\n",
       "      <td>Go until jurong point, crazy.. Available only ...</td>\n",
       "    </tr>\n",
       "    <tr>\n",
       "      <th>1</th>\n",
       "      <td>ham</td>\n",
       "      <td>Ok lar... Joking wif u oni...</td>\n",
       "    </tr>\n",
       "    <tr>\n",
       "      <th>2</th>\n",
       "      <td>spam</td>\n",
       "      <td>Free entry in 2 a wkly comp to win FA Cup fina...</td>\n",
       "    </tr>\n",
       "    <tr>\n",
       "      <th>3</th>\n",
       "      <td>ham</td>\n",
       "      <td>U dun say so early hor... U c already then say...</td>\n",
       "    </tr>\n",
       "    <tr>\n",
       "      <th>4</th>\n",
       "      <td>ham</td>\n",
       "      <td>Nah I don't think he goes to usf, he lives aro...</td>\n",
       "    </tr>\n",
       "  </tbody>\n",
       "</table>\n",
       "</div>"
      ],
      "text/plain": [
       "  target                                               text\n",
       "0    ham  Go until jurong point, crazy.. Available only ...\n",
       "1    ham                      Ok lar... Joking wif u oni...\n",
       "2   spam  Free entry in 2 a wkly comp to win FA Cup fina...\n",
       "3    ham  U dun say so early hor... U c already then say...\n",
       "4    ham  Nah I don't think he goes to usf, he lives aro..."
      ]
     },
     "execution_count": 4,
     "metadata": {},
     "output_type": "execute_result"
    }
   ],
   "source": [
    "# Change columns name and change target values\n",
    "\n",
    "spam_data.rename(columns = {'v1': 'target', \n",
    "                            'v2': 'text'}, \n",
    "                inplace = True)\n",
    "\n",
    "spam_data.head()"
   ]
  },
  {
   "cell_type": "code",
   "execution_count": 5,
   "id": "8e7bddd5-1b20-4c82-8f5b-75348a61e502",
   "metadata": {
    "tags": []
   },
   "outputs": [
    {
     "data": {
      "text/html": [
       "<div>\n",
       "<style scoped>\n",
       "    .dataframe tbody tr th:only-of-type {\n",
       "        vertical-align: middle;\n",
       "    }\n",
       "\n",
       "    .dataframe tbody tr th {\n",
       "        vertical-align: top;\n",
       "    }\n",
       "\n",
       "    .dataframe thead th {\n",
       "        text-align: right;\n",
       "    }\n",
       "</style>\n",
       "<table border=\"1\" class=\"dataframe\">\n",
       "  <thead>\n",
       "    <tr style=\"text-align: right;\">\n",
       "      <th></th>\n",
       "      <th>target</th>\n",
       "      <th>text</th>\n",
       "    </tr>\n",
       "  </thead>\n",
       "  <tbody>\n",
       "    <tr>\n",
       "      <th>0</th>\n",
       "      <td>0</td>\n",
       "      <td>Go until jurong point, crazy.. Available only ...</td>\n",
       "    </tr>\n",
       "    <tr>\n",
       "      <th>1</th>\n",
       "      <td>0</td>\n",
       "      <td>Ok lar... Joking wif u oni...</td>\n",
       "    </tr>\n",
       "    <tr>\n",
       "      <th>2</th>\n",
       "      <td>1</td>\n",
       "      <td>Free entry in 2 a wkly comp to win FA Cup fina...</td>\n",
       "    </tr>\n",
       "    <tr>\n",
       "      <th>3</th>\n",
       "      <td>0</td>\n",
       "      <td>U dun say so early hor... U c already then say...</td>\n",
       "    </tr>\n",
       "    <tr>\n",
       "      <th>4</th>\n",
       "      <td>0</td>\n",
       "      <td>Nah I don't think he goes to usf, he lives aro...</td>\n",
       "    </tr>\n",
       "  </tbody>\n",
       "</table>\n",
       "</div>"
      ],
      "text/plain": [
       "   target                                               text\n",
       "0       0  Go until jurong point, crazy.. Available only ...\n",
       "1       0                      Ok lar... Joking wif u oni...\n",
       "2       1  Free entry in 2 a wkly comp to win FA Cup fina...\n",
       "3       0  U dun say so early hor... U c already then say...\n",
       "4       0  Nah I don't think he goes to usf, he lives aro..."
      ]
     },
     "execution_count": 5,
     "metadata": {},
     "output_type": "execute_result"
    }
   ],
   "source": [
    "spam_data['target'] = spam_data['target'].map({'ham': 0, \n",
    "                                           'spam': 1})\n",
    "\n",
    "spam_data.head()"
   ]
  },
  {
   "cell_type": "code",
   "execution_count": 7,
   "id": "dd74e279-1f1a-4ff7-b7d8-dc97e7d94fe2",
   "metadata": {},
   "outputs": [
    {
     "name": "stdout",
     "output_type": "stream",
     "text": [
      "Go until jurong point, crazy.. Available only in bugis n great world la e buffet... Cine there got amore wat...\n"
     ]
    }
   ],
   "source": [
    "print(spam_data.iloc[0]['text'])"
   ]
  },
  {
   "cell_type": "markdown",
   "id": "6d9c5fa4-e863-43e3-855b-b03044a4eaaf",
   "metadata": {
    "tags": []
   },
   "source": [
    "### b. Data Preprocessing"
   ]
  },
  {
   "cell_type": "code",
   "execution_count": 8,
   "id": "8d8a10f5-cb23-4d6c-8437-5cbc5e3a83ee",
   "metadata": {},
   "outputs": [
    {
     "name": "stderr",
     "output_type": "stream",
     "text": [
      "[nltk_data] Downloading package stopwords to\n",
      "[nltk_data]     /Users/zoumanakeita/nltk_data...\n",
      "[nltk_data]   Package stopwords is already up-to-date!\n"
     ]
    }
   ],
   "source": [
    "import re\n",
    "import nltk\n",
    "nltk.download('stopwords')\n",
    "from nltk.corpus import stopwords"
   ]
  },
  {
   "cell_type": "code",
   "execution_count": 9,
   "id": "62b90109-a4b8-4132-aa58-1584e56eaeb7",
   "metadata": {},
   "outputs": [],
   "source": [
    "# 1. Remove punctuations\n",
    "spam_data['text'] = spam_data['text'].apply(lambda x: re.sub(r'[^\\w\\s]', '', x))\n",
    "\n",
    "# 2. Convert to lowercase\n",
    "spam_data['text'] = spam_data['text'].apply(lambda x: x.lower())\n",
    "\n",
    "# 3. Remove stopwords\n",
    "stop_words = set(stopwords.words('english'))\n",
    "\n",
    "spam_data['text'] = spam_data['text'].apply(lambda x: ' '.join([word for word in x.split() if word.lower() not in stop_words]))\n",
    "\n",
    "# 4. Remove numbers\n",
    "spam_data['text'] = spam_data['text'].apply(lambda x: re.sub(r'\\d+', '', x))\n",
    "\n",
    "# 5. Remove words less than 2 letters\n",
    "spam_data['text'] = spam_data['text'].apply(lambda x: ' '.join([word for word in x.split() if len(word) > 2]))\n"
   ]
  },
  {
   "cell_type": "code",
   "execution_count": 10,
   "id": "a5ed8142-8603-47d6-9e6f-eee63c272cc6",
   "metadata": {},
   "outputs": [
    {
     "data": {
      "text/html": [
       "<div>\n",
       "<style scoped>\n",
       "    .dataframe tbody tr th:only-of-type {\n",
       "        vertical-align: middle;\n",
       "    }\n",
       "\n",
       "    .dataframe tbody tr th {\n",
       "        vertical-align: top;\n",
       "    }\n",
       "\n",
       "    .dataframe thead th {\n",
       "        text-align: right;\n",
       "    }\n",
       "</style>\n",
       "<table border=\"1\" class=\"dataframe\">\n",
       "  <thead>\n",
       "    <tr style=\"text-align: right;\">\n",
       "      <th></th>\n",
       "      <th>target</th>\n",
       "      <th>text</th>\n",
       "    </tr>\n",
       "  </thead>\n",
       "  <tbody>\n",
       "    <tr>\n",
       "      <th>0</th>\n",
       "      <td>0</td>\n",
       "      <td>jurong point crazy available bugis great world...</td>\n",
       "    </tr>\n",
       "    <tr>\n",
       "      <th>1</th>\n",
       "      <td>0</td>\n",
       "      <td>lar joking wif oni</td>\n",
       "    </tr>\n",
       "    <tr>\n",
       "      <th>2</th>\n",
       "      <td>1</td>\n",
       "      <td>free entry wkly comp win cup final tkts may te...</td>\n",
       "    </tr>\n",
       "    <tr>\n",
       "      <th>3</th>\n",
       "      <td>0</td>\n",
       "      <td>dun say early hor already say</td>\n",
       "    </tr>\n",
       "    <tr>\n",
       "      <th>4</th>\n",
       "      <td>0</td>\n",
       "      <td>nah dont think goes usf lives around though</td>\n",
       "    </tr>\n",
       "  </tbody>\n",
       "</table>\n",
       "</div>"
      ],
      "text/plain": [
       "   target                                               text\n",
       "0       0  jurong point crazy available bugis great world...\n",
       "1       0                                 lar joking wif oni\n",
       "2       1  free entry wkly comp win cup final tkts may te...\n",
       "3       0                      dun say early hor already say\n",
       "4       0        nah dont think goes usf lives around though"
      ]
     },
     "execution_count": 10,
     "metadata": {},
     "output_type": "execute_result"
    }
   ],
   "source": [
    "spam_data.head()"
   ]
  },
  {
   "cell_type": "code",
   "execution_count": 11,
   "id": "f5008352-8e3c-4369-9d19-06451fc4f56a",
   "metadata": {},
   "outputs": [
    {
     "name": "stdout",
     "output_type": "stream",
     "text": [
      "jurong point crazy available bugis great world buffet cine got amore wat\n"
     ]
    }
   ],
   "source": [
    "print(spam_data.iloc[0]['text'])"
   ]
  },
  {
   "cell_type": "markdown",
   "id": "3aaf0ce1-0057-4c7c-b7f4-42ec27e69c21",
   "metadata": {
    "tags": []
   },
   "source": [
    "### c. Data Build Machine Learning Model"
   ]
  },
  {
   "cell_type": "code",
   "execution_count": 13,
   "id": "704a4545-14e5-4180-b97b-9b0a321d4409",
   "metadata": {},
   "outputs": [],
   "source": [
    "import numpy as np\n",
    "from sklearn.feature_extraction.text import CountVectorizer\n",
    "from sklearn.model_selection import train_test_split\n",
    "from sklearn.linear_model import LogisticRegression\n",
    "from sklearn.svm import LinearSVC\n",
    "from sklearn.metrics import accuracy_score, precision_score, recall_score, f1_score"
   ]
  },
  {
   "cell_type": "code",
   "execution_count": 14,
   "id": "02f411a0-3223-44e6-b376-192808e604d7",
   "metadata": {},
   "outputs": [],
   "source": [
    "X = spam_data['text']\n",
    "y = spam_data['target']\n",
    "ran_state = 2023\n",
    "t_size = 0.2 \n",
    "\n",
    "\n",
    "cv = CountVectorizer()\n",
    "X = cv.fit_transform(X)\n",
    "\n",
    "X_train, X_test, y_train, y_test = train_test_split(X, y, \n",
    "                                                    test_size=t_size, \n",
    "                                                    random_state=ran_state, \n",
    "                                                    stratify = y) # To make sure \"y\" target is evenly distributed\n",
    "                                                                  # Across training and testing data"
   ]
  },
  {
   "cell_type": "markdown",
   "id": "8139ab06-30a8-4a02-9636-0f4f1958e0bc",
   "metadata": {},
   "source": [
    "#### c.1. Logic Regression Model"
   ]
  },
  {
   "cell_type": "code",
   "execution_count": 15,
   "id": "d885727f-bb76-4114-ac39-f9602c5340db",
   "metadata": {},
   "outputs": [],
   "source": [
    "# 1. Train the model\n",
    "lr_model = LogisticRegression()\n",
    "\n",
    "lr_model.fit(X_train, y_train)\n",
    "\n",
    "# 2. Make prediction\n",
    "y_lr_model_predict = lr_model.predict(X_test)"
   ]
  },
  {
   "cell_type": "code",
   "execution_count": 16,
   "id": "7224ac4f-52f0-419e-a957-e786d0b89eda",
   "metadata": {},
   "outputs": [
    {
     "name": "stdout",
     "output_type": "stream",
     "text": [
      "Logistic Regression:\n",
      "Accuracy: 0.979372197309417\n",
      "Precision: 0.9846153846153847\n",
      "Recall: 0.8590604026845637\n",
      "F1 score: 0.9175627240143368\n"
     ]
    }
   ],
   "source": [
    "# 3. Evaluate the model\n",
    "print('Logistic Regression:')\n",
    "print('Accuracy:', accuracy_score(y_test, y_lr_model_predict))\n",
    "print('Precision:', precision_score(y_test, y_lr_model_predict))\n",
    "print('Recall:', recall_score(y_test, y_lr_model_predict))\n",
    "print('F1 score:', f1_score(y_test, y_lr_model_predict))"
   ]
  },
  {
   "cell_type": "markdown",
   "id": "536ab3bf-5766-481c-94f4-e8506577b15d",
   "metadata": {},
   "source": [
    "#### c.2. Linear SVM Model"
   ]
  },
  {
   "cell_type": "code",
   "execution_count": 18,
   "id": "d933cbf9-9385-4b5d-a948-917ab913cbb2",
   "metadata": {},
   "outputs": [],
   "source": [
    "svm_model = LinearSVC()\n",
    "svm_model.fit(X_train, y_train)\n",
    "y_svm_model_predict = svm_model.predict(X_test)"
   ]
  },
  {
   "cell_type": "code",
   "execution_count": 19,
   "id": "94247ded-fc82-4479-b1ed-632f3804562c",
   "metadata": {},
   "outputs": [
    {
     "name": "stdout",
     "output_type": "stream",
     "text": [
      "Linear SVM:\n",
      "Accuracy: 0.9820627802690582\n",
      "Precision: 0.9849624060150376\n",
      "Recall: 0.8791946308724832\n",
      "F1 score: 0.9290780141843972\n"
     ]
    }
   ],
   "source": [
    "# Evaluate the model\n",
    "print('Linear SVM:')\n",
    "print('Accuracy:', accuracy_score(y_test, y_svm_model_predict))\n",
    "print('Precision:', precision_score(y_test, y_svm_model_predict))\n",
    "print('Recall:', recall_score(y_test, y_svm_model_predict))\n",
    "print('F1 score:', f1_score(y_test, y_svm_model_predict))"
   ]
  },
  {
   "cell_type": "markdown",
   "id": "3e8142cd-a2e2-4b5c-aed7-70befc6b17e0",
   "metadata": {},
   "source": [
    "#### c.3. Conclusion.   \n",
    "The Linear SVM model has the best performance compared to Logistic Regression model"
   ]
  },
  {
   "cell_type": "markdown",
   "id": "beb06265-a1da-4942-83dc-a499f77a2d2e",
   "metadata": {
    "tags": []
   },
   "source": [
    "### c. Use model on real-life data"
   ]
  },
  {
   "cell_type": "code",
   "execution_count": 20,
   "id": "dec96290-14b6-458f-aaa2-6807110f9068",
   "metadata": {},
   "outputs": [],
   "source": [
    "# 1. Serialize the best model\n",
    "import joblib"
   ]
  },
  {
   "cell_type": "code",
   "execution_count": 21,
   "id": "8fc8e790-eabf-4a09-b3cb-457159aa1261",
   "metadata": {},
   "outputs": [
    {
     "data": {
      "text/plain": [
       "['./models/svm_best_model.joblib']"
      ]
     },
     "execution_count": 21,
     "metadata": {},
     "output_type": "execute_result"
    }
   ],
   "source": [
    "model_file_name = \"svm_best_model.joblib\"\n",
    "model_folder = \"./models/\"\n",
    "joblib.dump(svm_model, model_folder+''+model_file_name)"
   ]
  },
  {
   "cell_type": "code",
   "execution_count": 22,
   "id": "84c88337-1588-4381-afe8-bd25f4bfe12c",
   "metadata": {},
   "outputs": [
    {
     "name": "stdout",
     "output_type": "stream",
     "text": [
      "This message is a : Spam 🚨\n"
     ]
    }
   ],
   "source": [
    "# 2. Load the model\n",
    "loaded_svm_model = joblib.load(open(model_folder+''+model_file_name, 'rb'))\n",
    "\n",
    "def make_prediction(input_text):\n",
    "    \n",
    "    preprocessed_text = cv.transform([input_text])\n",
    "\n",
    "    prediction = loaded_svm_model.predict(preprocessed_text)\n",
    "\n",
    "    info = '' \n",
    "\n",
    "    if(prediction[0] == 0):\n",
    "        info = \"Ham ✅\"\n",
    "\n",
    "    else:\n",
    "        info = \"Spam 🚨\" \n",
    "    \n",
    "    final_info = \"This message is a : {}\".format(info)\n",
    "    \n",
    "    return final_info\n",
    "    \n",
    "    \n",
    "    \n",
    "text_example = \"Thank you for your message. You have won $1000000000 send your bank information asap!!!\"\n",
    "\n",
    "print(make_prediction(text_example))"
   ]
  },
  {
   "cell_type": "markdown",
   "id": "b897988b-8b1e-47df-886f-7db43fe3dd38",
   "metadata": {
    "tags": []
   },
   "source": [
    "## 2. Build Gradio App"
   ]
  },
  {
   "cell_type": "code",
   "execution_count": 23,
   "id": "192c747f-8ee9-4da5-b204-356a2e92895a",
   "metadata": {},
   "outputs": [],
   "source": [
    "#!pip3 install gradio"
   ]
  },
  {
   "cell_type": "code",
   "execution_count": 24,
   "id": "ccc43a6c-d222-4b25-aec2-505d15c25e07",
   "metadata": {},
   "outputs": [],
   "source": [
    "import gradio as gr"
   ]
  },
  {
   "cell_type": "code",
   "execution_count": 26,
   "id": "835bcda2-3339-4924-9c71-025bf7863fb1",
   "metadata": {},
   "outputs": [
    {
     "name": "stdout",
     "output_type": "stream",
     "text": [
      "Running on local URL:  http://127.0.0.1:7861\n",
      "Running on public URL: https://b4f8e7594bdcb1cae3.gradio.live\n",
      "\n",
      "This share link expires in 72 hours. For free permanent hosting and GPU upgrades (NEW!), check out Spaces: https://huggingface.co/spaces\n"
     ]
    },
    {
     "data": {
      "text/html": [
       "<div><iframe src=\"https://b4f8e7594bdcb1cae3.gradio.live\" width=\"100%\" height=\"500\" allow=\"autoplay; camera; microphone; clipboard-read; clipboard-write;\" frameborder=\"0\" allowfullscreen></iframe></div>"
      ],
      "text/plain": [
       "<IPython.core.display.HTML object>"
      ]
     },
     "metadata": {},
     "output_type": "display_data"
    },
    {
     "data": {
      "text/plain": []
     },
     "execution_count": 26,
     "metadata": {},
     "output_type": "execute_result"
    }
   ],
   "source": [
    "headline = \"Spam Detector App\"\n",
    "\n",
    "iface = gr.Interface(fn=make_prediction, inputs=\"text\", outputs=\"text\", title = headline)\n",
    "iface.launch(share=True)"
   ]
  },
  {
   "cell_type": "code",
   "execution_count": null,
   "id": "aae4b653-99f0-4e9e-a315-de0ff1444819",
   "metadata": {},
   "outputs": [],
   "source": []
  }
 ],
 "metadata": {
  "kernelspec": {
   "display_name": "Python 3 (ipykernel)",
   "language": "python",
   "name": "python3"
  },
  "language_info": {
   "codemirror_mode": {
    "name": "ipython",
    "version": 3
   },
   "file_extension": ".py",
   "mimetype": "text/x-python",
   "name": "python",
   "nbconvert_exporter": "python",
   "pygments_lexer": "ipython3",
   "version": "3.10.8"
  }
 },
 "nbformat": 4,
 "nbformat_minor": 5
}
