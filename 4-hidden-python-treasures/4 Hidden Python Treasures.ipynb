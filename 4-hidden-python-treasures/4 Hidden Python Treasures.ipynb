{
 "cells": [
  {
   "cell_type": "markdown",
   "id": "37fa40a9",
   "metadata": {},
   "source": [
    "# 4 Hidden Python Treasures That You Probably Didn't Know Existed "
   ]
  },
  {
   "cell_type": "markdown",
   "id": "a931804d",
   "metadata": {},
   "source": [
    "## Automate Dates and Time Extraction"
   ]
  },
  {
   "cell_type": "code",
   "execution_count": 2,
   "id": "4e02f94f",
   "metadata": {},
   "outputs": [
    {
     "name": "stdout",
     "output_type": "stream",
     "text": [
      "\u001b[33mDEPRECATION: Configuring installation scheme with distutils config files is deprecated and will no longer work in the near future. If you are using a Homebrew or Linuxbrew Python, please see discussion at https://github.com/Homebrew/homebrew-core/issues/76621\u001b[0m\n",
      "\u001b[33mDEPRECATION: Configuring installation scheme with distutils config files is deprecated and will no longer work in the near future. If you are using a Homebrew or Linuxbrew Python, please see discussion at https://github.com/Homebrew/homebrew-core/issues/76621\u001b[0m\n",
      "\u001b[33mWARNING: You are using pip version 21.3.1; however, version 23.2.1 is available.\n",
      "You should consider upgrading via the '/usr/local/opt/python@3.9/bin/python3.9 -m pip install --upgrade pip' command.\u001b[0m\n"
     ]
    }
   ],
   "source": [
    "!pip -q install datefinder"
   ]
  },
  {
   "cell_type": "code",
   "execution_count": 4,
   "id": "d5353fe5",
   "metadata": {},
   "outputs": [],
   "source": [
    "from datefinder import find_dates"
   ]
  },
  {
   "cell_type": "code",
   "execution_count": 13,
   "id": "88c6c9a0",
   "metadata": {},
   "outputs": [
    {
     "name": "stdout",
     "output_type": "stream",
     "text": [
      "Date and time: 2023-08-01 07:00:00\n",
      "Only Time: 07:00:00\n",
      "Only Day: 01\n",
      "Only Month: 08\n",
      "----------\n",
      "Date and time: 2023-09-20 10:00:00\n",
      "Only Time: 10:00:00\n",
      "Only Day: 20\n",
      "Only Month: 09\n",
      "----------\n"
     ]
    }
   ],
   "source": [
    "text_data = \"\"\"\n",
    "I will meet the business team on August 1st, 2023 at 07 AM. The goal is \n",
    "to discuss the budget planning for September, 20th 2023 at 10 AM\n",
    "\"\"\"\n",
    "\n",
    "all_dates = find_dates(text_data)\n",
    "\n",
    "for match in all_dates:\n",
    "    print(f\"Date and time: {match}\")\n",
    "    print(f\"Only Time: {match.strftime('%H:%M:%S')}\")\n",
    "    print(f\"Only Day: {match.strftime('%d')}\")\n",
    "    print(f\"Only Month: {match.strftime('%m')}\")\n",
    "    print(\"--\"*5)"
   ]
  },
  {
   "cell_type": "markdown",
   "id": "64dd3455",
   "metadata": {},
   "source": [
    "## Make your Regular Expression Human Readable"
   ]
  },
  {
   "cell_type": "code",
   "execution_count": 15,
   "id": "b208e15b",
   "metadata": {},
   "outputs": [
    {
     "name": "stdout",
     "output_type": "stream",
     "text": [
      "\u001b[33mDEPRECATION: Configuring installation scheme with distutils config files is deprecated and will no longer work in the near future. If you are using a Homebrew or Linuxbrew Python, please see discussion at https://github.com/Homebrew/homebrew-core/issues/76621\u001b[0m\n",
      "\u001b[33mDEPRECATION: Configuring installation scheme with distutils config files is deprecated and will no longer work in the near future. If you are using a Homebrew or Linuxbrew Python, please see discussion at https://github.com/Homebrew/homebrew-core/issues/76621\u001b[0m\n",
      "\u001b[33mWARNING: You are using pip version 21.3.1; however, version 23.2.1 is available.\n",
      "You should consider upgrading via the '/usr/local/opt/python@3.9/bin/python3.9 -m pip install --upgrade pip' command.\u001b[0m\n"
     ]
    }
   ],
   "source": [
    "!pip -q install pregex"
   ]
  },
  {
   "cell_type": "code",
   "execution_count": 18,
   "id": "cc8cbdff",
   "metadata": {},
   "outputs": [],
   "source": [
    "\n",
    "from pregex.core.classes import AnyButWhitespace, AnyDigit\n",
    "from pregex.core.quantifiers import OneOrMore, Exactly\n",
    "from pregex.core.operators import Either\n"
   ]
  },
  {
   "cell_type": "code",
   "execution_count": 31,
   "id": "03b0e86f",
   "metadata": {},
   "outputs": [],
   "source": [
    "text_data = \"\"\"\n",
    "I will meet the business team on the 01-08-2023 at 07 AM. \n",
    "The meeting will be live on the company website at https://company.info.com/business/live\n",
    "\"\"\"\n",
    "\n",
    "two_digits = Exactly(AnyDigit(), 2) \n",
    "four_digits = Exactly(AnyDigit(), 4)\n",
    "\n",
    "date_patter = (\n",
    "    two_digits +\n",
    "    \"-\" +\n",
    "    two_digits +\n",
    "    \"-\" +\n",
    "    four_digits\n",
    ")\n",
    "\n",
    "url_pattern = (\n",
    "          \"https://\"\n",
    "          + OneOrMore(AnyButWhitespace())\n",
    "          + Either(\".com\", \".fr\", \".net\", \".org\")\n",
    "          + OneOrMore(AnyButWhitespace())\n",
    ")\n"
   ]
  },
  {
   "cell_type": "code",
   "execution_count": 32,
   "id": "eeeb9c4d",
   "metadata": {},
   "outputs": [],
   "source": [
    "dates_match = date_patter.get_matches(text_data)\n",
    "url_match = url_pattern.get_matches(text_data)"
   ]
  },
  {
   "cell_type": "code",
   "execution_count": 33,
   "id": "bce33708",
   "metadata": {},
   "outputs": [
    {
     "name": "stdout",
     "output_type": "stream",
     "text": [
      "All Dates: ['01-08-2023']\n",
      "URL: ['https://company.info.com/business/live']\n"
     ]
    }
   ],
   "source": [
    "print(f\"All Dates: {dates_match}\")\n",
    "print(f\"URL: {url_match}\")"
   ]
  },
  {
   "cell_type": "markdown",
   "id": "32626cde",
   "metadata": {},
   "source": [
    "## Icecream for code debugging"
   ]
  },
  {
   "cell_type": "code",
   "execution_count": 1,
   "id": "cbe26982",
   "metadata": {},
   "outputs": [
    {
     "name": "stdout",
     "output_type": "stream",
     "text": [
      "\u001b[33mDEPRECATION: Configuring installation scheme with distutils config files is deprecated and will no longer work in the near future. If you are using a Homebrew or Linuxbrew Python, please see discussion at https://github.com/Homebrew/homebrew-core/issues/76621\u001b[0m\n",
      "\u001b[33m  DEPRECATION: Configuring installation scheme with distutils config files is deprecated and will no longer work in the near future. If you are using a Homebrew or Linuxbrew Python, please see discussion at https://github.com/Homebrew/homebrew-core/issues/76621\u001b[0m\n",
      "\u001b[33mDEPRECATION: Configuring installation scheme with distutils config files is deprecated and will no longer work in the near future. If you are using a Homebrew or Linuxbrew Python, please see discussion at https://github.com/Homebrew/homebrew-core/issues/76621\u001b[0m\n",
      "\u001b[33mWARNING: You are using pip version 21.3.1; however, version 23.2.1 is available.\n",
      "You should consider upgrading via the '/usr/local/opt/python@3.9/bin/python3.9 -m pip install --upgrade pip' command.\u001b[0m\n"
     ]
    }
   ],
   "source": [
    "!pip -q install icecream"
   ]
  },
  {
   "cell_type": "code",
   "execution_count": 2,
   "id": "1b18d01f",
   "metadata": {},
   "outputs": [
    {
     "name": "stderr",
     "output_type": "stream",
     "text": [
      "ic| x: 10\n",
      "ic| x: 10\n",
      "ic| x: 10\n"
     ]
    },
    {
     "data": {
      "text/plain": [
       "10"
      ]
     },
     "execution_count": 2,
     "metadata": {},
     "output_type": "execute_result"
    }
   ],
   "source": [
    "from icecream import ic\n",
    "\n",
    "x = 10\n",
    "y = 20 \n",
    "z = 30 \n",
    "\n",
    "ic(x)\n",
    "ic(x)\n",
    "ic(x)"
   ]
  },
  {
   "cell_type": "code",
   "execution_count": 3,
   "id": "7e2b3969",
   "metadata": {},
   "outputs": [
    {
     "name": "stdout",
     "output_type": "stream",
     "text": [
      "x: 10\n",
      "y: 10\n",
      "z: 10\n"
     ]
    }
   ],
   "source": [
    "print(f\"x: {x}\")\n",
    "print(f\"y: {x}\")\n",
    "print(f\"z: {x}\")"
   ]
  },
  {
   "cell_type": "code",
   "execution_count": 8,
   "id": "f05820c5",
   "metadata": {},
   "outputs": [
    {
     "name": "stderr",
     "output_type": "stream",
     "text": [
      "ic| length: 5, width: 6\n",
      "ic| compute_rectangle_area(5, 6): 30\n"
     ]
    },
    {
     "data": {
      "text/plain": [
       "30"
      ]
     },
     "execution_count": 8,
     "metadata": {},
     "output_type": "execute_result"
    }
   ],
   "source": [
    "def compute_rectangle_area(length, width):\n",
    "    \n",
    "    ic(length, width)\n",
    "    area = length * width\n",
    "    return area\n",
    "\n",
    "ic(compute_rectangle_area(5, 6))\n"
   ]
  },
  {
   "cell_type": "code",
   "execution_count": null,
   "id": "8bdd49c2",
   "metadata": {},
   "outputs": [],
   "source": []
  }
 ],
 "metadata": {
  "kernelspec": {
   "display_name": "Python 3 (ipykernel)",
   "language": "python",
   "name": "python3"
  },
  "language_info": {
   "codemirror_mode": {
    "name": "ipython",
    "version": 3
   },
   "file_extension": ".py",
   "mimetype": "text/x-python",
   "name": "python",
   "nbconvert_exporter": "python",
   "pygments_lexer": "ipython3",
   "version": "3.9.15"
  },
  "toc": {
   "base_numbering": 1,
   "nav_menu": {},
   "number_sections": true,
   "sideBar": true,
   "skip_h1_title": false,
   "title_cell": "Table of Contents",
   "title_sidebar": "Contents",
   "toc_cell": false,
   "toc_position": {},
   "toc_section_display": true,
   "toc_window_display": false
  }
 },
 "nbformat": 4,
 "nbformat_minor": 5
}
