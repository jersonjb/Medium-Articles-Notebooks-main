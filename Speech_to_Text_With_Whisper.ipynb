{
  "nbformat": 4,
  "nbformat_minor": 0,
  "metadata": {
    "colab": {
      "provenance": []
    },
    "kernelspec": {
      "name": "python3",
      "display_name": "Python 3"
    },
    "language_info": {
      "name": "python"
    },
    "accelerator": "GPU",
    "gpuClass": "standard"
  },
  "cells": [
    {
      "cell_type": "markdown",
      "source": [
        "# Whisper Tutorial   \n",
        "Author: [Zoumana Keita](https://zoumanakeita.medium.com/)"
      ],
      "metadata": {
        "id": "Owo8SFRhT1Ik"
      }
    },
    {
      "cell_type": "markdown",
      "source": [
        "# Installation and initializations "
      ],
      "metadata": {
        "id": "H_juZ2X-OP1q"
      }
    },
    {
      "cell_type": "code",
      "execution_count": 1,
      "metadata": {
        "colab": {
          "base_uri": "https://localhost:8080/"
        },
        "id": "RyBfYgKpNzuE",
        "outputId": "2c00ba37-b048-4964-8196-266108413257"
      },
      "outputs": [
        {
          "output_type": "stream",
          "name": "stdout",
          "text": [
            "\u001b[K     |████████████████████████████████| 5.5 MB 17.0 MB/s \n",
            "\u001b[K     |████████████████████████████████| 7.6 MB 51.9 MB/s \n",
            "\u001b[K     |████████████████████████████████| 182 kB 62.9 MB/s \n",
            "\u001b[?25h  Building wheel for whisper (setup.py) ... \u001b[?25l\u001b[?25hdone\n"
          ]
        }
      ],
      "source": [
        "!pip -qqq install git+https://github.com/openai/whisper.git "
      ]
    },
    {
      "cell_type": "code",
      "source": [
        "# Import the libraries \n",
        "import whisper\n",
        "import torch \n",
        "import os\n",
        "\n",
        "# Set the device\n",
        "device = \"cuda\" if torch.cuda.is_available() else \"cpu\"\n",
        "\n",
        "# Load the model \n",
        "whisper_model = whisper.load_model(\"large\", device=device)"
      ],
      "metadata": {
        "id": "yQmc9_K4OXPu",
        "colab": {
          "base_uri": "https://localhost:8080/"
        },
        "outputId": "1a6f4c4f-b98b-4117-df51-137ffd29dfe8"
      },
      "execution_count": 2,
      "outputs": [
        {
          "output_type": "stream",
          "name": "stderr",
          "text": [
            "100%|█████████████████████████████████████| 2.87G/2.87G [01:12<00:00, 42.7MiB/s]\n"
          ]
        }
      ]
    },
    {
      "cell_type": "code",
      "source": [
        "# Install the library\n",
        "!pip -qqq install pytube\n",
        "\n",
        "# import the module\n",
        "from pytube import YouTube"
      ],
      "metadata": {
        "id": "pT3NWxasSWcW",
        "colab": {
          "base_uri": "https://localhost:8080/"
        },
        "outputId": "20f66e68-f0ef-4ad1-f576-8b9cf64147ac"
      },
      "execution_count": 3,
      "outputs": [
        {
          "output_type": "stream",
          "name": "stdout",
          "text": [
            "Looking in indexes: https://pypi.org/simple, https://us-python.pkg.dev/colab-wheels/public/simple/\n",
            "Collecting pytube\n",
            "  Downloading pytube-12.1.0-py3-none-any.whl (56 kB)\n",
            "\u001b[K     |████████████████████████████████| 56 kB 4.2 MB/s \n",
            "\u001b[?25hInstalling collected packages: pytube\n",
            "Successfully installed pytube-12.1.0\n"
          ]
        }
      ]
    },
    {
      "cell_type": "code",
      "source": [
        "def video_to_audio(video_URL, destination, final_filename):\n",
        "\n",
        "  # Get the video\n",
        "  video = YouTube(video_URL)\n",
        "\n",
        "  # Convert video to Audio\n",
        "  audio = video.streams.filter(only_audio=True).first()\n",
        "\n",
        "  # Save to destination\n",
        "  output = audio.download(output_path = destination)\n",
        "\n",
        "  _, ext = os.path.splitext(output)\n",
        "  new_file = final_filename + '.mp3'\n",
        "\n",
        "  # Change the name of the file\n",
        "  os.rename(output, new_file)\n",
        "\n",
        "# Video to audio\n",
        "video_URL = 'https://www.youtube.com/watch?v=E9lAeMz1DaM'\n",
        "destination = \".\"\n",
        "final_filename = \"motivational_speech\"\n",
        "video_to_audio(video_URL, destination, final_filename)"
      ],
      "metadata": {
        "id": "PNN0oi6wiW0o"
      },
      "execution_count": 5,
      "outputs": []
    },
    {
      "cell_type": "markdown",
      "source": [
        "## Start Transcription"
      ],
      "metadata": {
        "id": "HWAFMwURgviQ"
      }
    },
    {
      "cell_type": "markdown",
      "source": [
        "#### English Audio"
      ],
      "metadata": {
        "id": "ZaQTKpiY6jhg"
      }
    },
    {
      "cell_type": "code",
      "source": [
        "audio_file = \"motivational_speech.mp3\"\n",
        "result = whisper_model.transcribe(audio_file)"
      ],
      "metadata": {
        "id": "avu00PEtdJjd"
      },
      "execution_count": 6,
      "outputs": []
    },
    {
      "cell_type": "code",
      "source": [
        "print(result[\"text\"])"
      ],
      "metadata": {
        "colab": {
          "base_uri": "https://localhost:8080/"
        },
        "id": "gPtC1563g5xx",
        "outputId": "2a7bde22-a647-4b27-bb10-17b1089fc1f0"
      },
      "execution_count": 7,
      "outputs": [
        {
          "output_type": "stream",
          "name": "stdout",
          "text": [
            " I don't know what that dream is that you have. I don't care how disappointing it might have been as you've been working toward that dream but that dream that you're holding in your mind that it's possible\n"
          ]
        }
      ]
    },
    {
      "cell_type": "markdown",
      "source": [
        "## Non English Audio"
      ],
      "metadata": {
        "id": "REssS2xwB9N8"
      }
    },
    {
      "cell_type": "code",
      "source": [
        "URL = \"https://www.youtube.com/watch?v=D8ztTzHHqiE\"\n",
        "destination = \".\"\n",
        "final_filename = \"discours_ADO\"\n",
        "video_to_audio(URL, destination, final_filename)\n",
        "\n",
        "# Run the test\n",
        "audio_file = \"discours_ADO.mp3\"\n",
        "result_ADO = whisper_model.transcribe(audio_file)\n",
        "\n",
        "# Show the result\n",
        "print(result_ADO[\"text\"])"
      ],
      "metadata": {
        "id": "pjDZwL9_g-ul",
        "colab": {
          "base_uri": "https://localhost:8080/"
        },
        "outputId": "6380068e-dc26-466c-940b-a26953a5e598"
      },
      "execution_count": 10,
      "outputs": [
        {
          "output_type": "stream",
          "name": "stdout",
          "text": [
            " Le Front CFA, vous l'avez toujours défendu, bec et ongle, est-ce que vous continuez à le faire ou est-ce que vous pensez qu'il faut peut-être changer les choses sans rentrer trop dans les tailles techniques? Monsieur Perelman, je vous dirais tout simplement qu'il y a vraiment du n'importe quoi dans ce débat. Moi, je ne veux pas manquer de modestie, mais j'ai été directeur des études de la Banque Centrale, j'ai été vice-gouverneur, j'ai été gouverneur de la Banque Centrale, donc je peux vous dire que je sais de quoi je parle. Le Front CFA, c'est notre monnaie, c'est la monnaie des pays membres et nous l'avons acceptée et nous l'avons développée, nous l'avons modifiée. J'étais là quand la reforme a eu lieu dans les années 1973-1974, alors tout ce débat est un nonsense. Maintenant, c'est notre monnaie. J'ai quand même eu à superviser la gestion monétaire et financière de plus de 120 pays dans le monde quand j'étais au Fonds Monétaire International. Mais je suis bien placé pour dire que si cette monnaie nous pose problème, écoutez, avec les autres chefs d'État, nous prendrons les décisions, mais cette monnaie est solide, elle est appropriée. Les taux de croissance sont parmi les plus élevés sur le continent africain et même dans le monde. Le Côte d'Ivoire est parmi les dix pays où le taux de croissance est le plus élevé. Donc c'est un nonsense, tout simplement, de la démagogie et je ne souhaite même pas continuer ce débat sur le Front CFA. C'est la monnaie des pays africains qui ont librement consenti et accepté de se mettre ensemble. Bien sûr, chacun de nous aurait pu avoir sa monnaie, mais quel serait l'intérêt? Pourquoi les Européens ont décidé d'avoir une monnaie commune et que nous les Africains ne serons pas en mesure de le faire? Nous sommes très fiers de cette monnaie, elle marche bien, s'il y a des adaptations à faire, nous le ferons de manière souveraine.\n"
          ]
        }
      ]
    },
    {
      "cell_type": "markdown",
      "source": [
        "### Speech Translation"
      ],
      "metadata": {
        "id": "cT1qHxjzPZEG"
      }
    },
    {
      "cell_type": "code",
      "source": [
        "URL = \"https://www.youtube.com/watch?v=hz5xWgjSUlk\"\n",
        "final_filename = \"comic\"\n",
        "video_to_audio(URL, destination, final_filename)\n",
        "\n",
        "# Run the test\n",
        "audio_file = \"comic.mp3\"\n",
        "french_to_english = whisper_model.transcribe(audio_file, task = 'translate')\n",
        "\n",
        "# Show the result\n",
        "print(french_to_english[\"text\"])"
      ],
      "metadata": {
        "colab": {
          "base_uri": "https://localhost:8080/"
        },
        "id": "5dbBl8ZEMhAV",
        "outputId": "359bfd6e-95db-4a47-9856-c436cbe021c3"
      },
      "execution_count": 14,
      "outputs": [
        {
          "output_type": "stream",
          "name": "stdout",
          "text": [
            " I was asked to make a speech. I'm going to tell you right away, ladies and gentlemen, that I'm going to speak without saying anything. I know, you think that if he has nothing to say, he would better shut up. It's too easy. It's too easy. Would you like me to do it like all those who have nothing to say and who keep it for themselves? Well, no, ladies and gentlemen, when I have nothing to say, I want people to know. I want to make others enjoy it, and if you, ladies and gentlemen, have nothing to say, well, we'll talk about it. We'll talk about it, I'm not an enemy of the colloquium. But tell me, if we talk about nothing, what are we going to talk about? Well, about nothing. Because nothing is not nothing, the proof is that we can subtract it. Nothing minus nothing equals less than nothing. So if we can find less than nothing, it means that nothing is already something. We can buy something with nothing by multiplying it. Well, once nothing, it's nothing. Twice nothing, it's not much. But three times nothing, for three times nothing, we can already buy something. And for cheap! Now, if you multiply three times nothing by three times nothing, nothing multiplied by nothing equals nothing, three multiplied by three equals nine, it's nothing new. Well, let's talk about something else, let's talk about the situation, let's talk about the situation without specifying which one. If you allow me, I'll briefly go over the history of the situation, whatever it is. A few months ago, remember, the situation, not to be worse than today's, was not better either. Already, we were heading towards the catastrophe and we knew it. We were aware of it, because we should not believe that the person in charge of yesterday was more ignorant of the situation than those of today. Besides, they are the same. Yes, the catastrophe where the pension was for tomorrow, that is to say that in fact it should be for today, by the way. If my calculations are right, but what do we see today? That it is still for tomorrow. So I ask you the question, ladies and gentlemen, is it by always putting the catastrophe that we could do the day after tomorrow, that we will avoid it? I would like to point out that if the current government is not capable of taking on the catastrophe, it is possible that the opposition will take it.\n"
          ]
        }
      ]
    }
  ]
}