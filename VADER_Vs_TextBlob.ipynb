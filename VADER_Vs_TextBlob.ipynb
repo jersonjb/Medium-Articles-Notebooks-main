{
  "nbformat": 4,
  "nbformat_minor": 0,
  "metadata": {
    "colab": {
      "name": "VADER Vs TextBlob.ipynb",
      "provenance": [],
      "collapsed_sections": []
    },
    "kernelspec": {
      "name": "python3",
      "display_name": "Python 3"
    },
    "language_info": {
      "name": "python"
    }
  },
  "cells": [
    {
      "cell_type": "markdown",
      "source": [
        "# VADER Vs. TextBlob - Which One Is Better For Social Media Sentiment Analysis?\n",
        "\n",
        "@Author: [Zoumana KEITA](zoumanakeita.medium.com/)"
      ],
      "metadata": {
        "id": "pSoubxIA-Jus"
      }
    },
    {
      "cell_type": "markdown",
      "source": [
        "## VADER"
      ],
      "metadata": {
        "id": "CVfzoKLc-0fP"
      }
    },
    {
      "cell_type": "code",
      "execution_count": 2,
      "metadata": {
        "colab": {
          "base_uri": "https://localhost:8080/"
        },
        "id": "pwqhbZFR-HLG",
        "outputId": "7b1982c7-9f62-4f18-db2e-47e2fb018cf0"
      },
      "outputs": [
        {
          "output_type": "stream",
          "name": "stdout",
          "text": [
            "Requirement already satisfied: nltk in /usr/local/lib/python3.7/dist-packages (3.2.5)\n",
            "Requirement already satisfied: six in /usr/local/lib/python3.7/dist-packages (from nltk) (1.15.0)\n",
            "[nltk_data] Downloading package vader_lexicon to /root/nltk_data...\n"
          ]
        },
        {
          "output_type": "stream",
          "name": "stderr",
          "text": [
            "/usr/local/lib/python3.7/dist-packages/nltk/twitter/__init__.py:20: UserWarning: The twython library has not been installed. Some functionality from the twitter package will not be available.\n",
            "  warnings.warn(\"The twython library has not been installed. \"\n"
          ]
        }
      ],
      "source": [
        "##### VADER PREREQUISITES\n",
        "\n",
        "# Install and import nltk\n",
        "!pip install nltk\n",
        "import nltk\n",
        "\n",
        "# Download the lexicon\n",
        "nltk.download(\"vader_lexicon\")\n",
        "\n",
        "# Import the lexicon \n",
        "from nltk.sentiment.vader import SentimentIntensityAnalyzer\n",
        "\n",
        "# Create an instance of SentimentIntensityAnalyzer\n",
        "sent_analyzer = SentimentIntensityAnalyzer()"
      ]
    },
    {
      "cell_type": "code",
      "source": [
        "sentence = \"VADER is pretty good at identifying the underlying sentiment of a text!\"\n",
        "print(sent_analyzer.polarity_scores(sentence))"
      ],
      "metadata": {
        "colab": {
          "base_uri": "https://localhost:8080/"
        },
        "id": "sYzivw6l-2zF",
        "outputId": "8ae5dd4f-4517-4fa0-9b7e-24ea2a8d4803"
      },
      "execution_count": 4,
      "outputs": [
        {
          "output_type": "stream",
          "name": "stdout",
          "text": [
            "{'neg': 0.0, 'neu': 0.585, 'pos': 0.415, 'compound': 0.75}\n"
          ]
        }
      ]
    },
    {
      "cell_type": "markdown",
      "source": [
        "## TextBlob"
      ],
      "metadata": {
        "id": "5IvqJiUV-4lu"
      }
    },
    {
      "cell_type": "code",
      "source": [
        "##### TextBlob PREREQUISITES\n",
        "!pip install textblob\n",
        "from textblob import TextBlob"
      ],
      "metadata": {
        "colab": {
          "base_uri": "https://localhost:8080/"
        },
        "id": "rhdschd6-Kw7",
        "outputId": "57ea4f0a-e55c-4427-957e-4dc8f97cf77e"
      },
      "execution_count": 3,
      "outputs": [
        {
          "output_type": "stream",
          "name": "stdout",
          "text": [
            "Requirement already satisfied: textblob in /usr/local/lib/python3.7/dist-packages (0.15.3)\n",
            "Requirement already satisfied: nltk>=3.1 in /usr/local/lib/python3.7/dist-packages (from textblob) (3.2.5)\n",
            "Requirement already satisfied: six in /usr/local/lib/python3.7/dist-packages (from nltk>=3.1->textblob) (1.15.0)\n"
          ]
        }
      ]
    },
    {
      "cell_type": "code",
      "source": [
        "# Create a textblob object\n",
        "sentence = TextBlob(\"Humans bad actions are destroying our only a one planet\")\n",
        "\n",
        "# Get the prediction/sentiment\n",
        "print(sentence.sentiment)"
      ],
      "metadata": {
        "colab": {
          "base_uri": "https://localhost:8080/"
        },
        "id": "x2MDuk__-w98",
        "outputId": "d91707b6-2b09-4227-cdf0-6129c22354c1"
      },
      "execution_count": 5,
      "outputs": [
        {
          "output_type": "stream",
          "name": "stdout",
          "text": [
            "Sentiment(polarity=-0.3, subjectivity=0.5555555555555555)\n"
          ]
        }
      ]
    },
    {
      "cell_type": "markdown",
      "source": [
        "## Benchmark Analysis "
      ],
      "metadata": {
        "id": "Oe4rR-BM_AsC"
      }
    },
    {
      "cell_type": "code",
      "source": [
        "import pandas as pd\n",
        "\n",
        "# Read the data set\n",
        "data_url = \"https://raw.githubusercontent.com/keitazoumana/VADER_sentiment-Analysis/main/data/testdata.manual.2009.06.14.csv\"\n",
        "sentiment_data = pd.read_csv(data_url)\n",
        "\n",
        "# Show 3 random rows\n",
        "sentiment_data.sample(3)"
      ],
      "metadata": {
        "colab": {
          "base_uri": "https://localhost:8080/",
          "height": 257
        },
        "id": "o8WoRb2V-9Bp",
        "outputId": "85b7b278-89c4-4b72-df45-b56cb76be929"
      },
      "execution_count": 6,
      "outputs": [
        {
          "output_type": "execute_result",
          "data": {
            "text/plain": [
              "     4     3  Mon May 11 03:17:40 UTC 2009                kindle2  \\\n",
              "355  4  2223  Wed May 27 23:56:46 UTC 2009               googleio   \n",
              "132  4   397  Tue Jun 02 02:55:49 UTC 2009  \"night at the museum\"   \n",
              "103  0   227  Mon May 25 17:46:06 UTC 2009            twitter api   \n",
              "\n",
              "           tpryan  \\\n",
              "355        daynah   \n",
              "132  jeremyempire   \n",
              "103        fwhamm   \n",
              "\n",
              "    @stellargirl I loooooooovvvvvveee my Kindle2. Not that the DX is cool, but the 2 is fantastic in its own right.  \n",
              "355  HTML 5 Demos! Lots of great stuff to come! Yes...                                                               \n",
              "132  saw night at the museum 2 last night.. pretty ...                                                               \n",
              "103  is Twitter's connections API broken? Some twee...                                                               "
            ],
            "text/html": [
              "\n",
              "  <div id=\"df-d901e9ca-5421-4644-a96b-ef721b736994\">\n",
              "    <div class=\"colab-df-container\">\n",
              "      <div>\n",
              "<style scoped>\n",
              "    .dataframe tbody tr th:only-of-type {\n",
              "        vertical-align: middle;\n",
              "    }\n",
              "\n",
              "    .dataframe tbody tr th {\n",
              "        vertical-align: top;\n",
              "    }\n",
              "\n",
              "    .dataframe thead th {\n",
              "        text-align: right;\n",
              "    }\n",
              "</style>\n",
              "<table border=\"1\" class=\"dataframe\">\n",
              "  <thead>\n",
              "    <tr style=\"text-align: right;\">\n",
              "      <th></th>\n",
              "      <th>4</th>\n",
              "      <th>3</th>\n",
              "      <th>Mon May 11 03:17:40 UTC 2009</th>\n",
              "      <th>kindle2</th>\n",
              "      <th>tpryan</th>\n",
              "      <th>@stellargirl I loooooooovvvvvveee my Kindle2. Not that the DX is cool, but the 2 is fantastic in its own right.</th>\n",
              "    </tr>\n",
              "  </thead>\n",
              "  <tbody>\n",
              "    <tr>\n",
              "      <th>355</th>\n",
              "      <td>4</td>\n",
              "      <td>2223</td>\n",
              "      <td>Wed May 27 23:56:46 UTC 2009</td>\n",
              "      <td>googleio</td>\n",
              "      <td>daynah</td>\n",
              "      <td>HTML 5 Demos! Lots of great stuff to come! Yes...</td>\n",
              "    </tr>\n",
              "    <tr>\n",
              "      <th>132</th>\n",
              "      <td>4</td>\n",
              "      <td>397</td>\n",
              "      <td>Tue Jun 02 02:55:49 UTC 2009</td>\n",
              "      <td>\"night at the museum\"</td>\n",
              "      <td>jeremyempire</td>\n",
              "      <td>saw night at the museum 2 last night.. pretty ...</td>\n",
              "    </tr>\n",
              "    <tr>\n",
              "      <th>103</th>\n",
              "      <td>0</td>\n",
              "      <td>227</td>\n",
              "      <td>Mon May 25 17:46:06 UTC 2009</td>\n",
              "      <td>twitter api</td>\n",
              "      <td>fwhamm</td>\n",
              "      <td>is Twitter's connections API broken? Some twee...</td>\n",
              "    </tr>\n",
              "  </tbody>\n",
              "</table>\n",
              "</div>\n",
              "      <button class=\"colab-df-convert\" onclick=\"convertToInteractive('df-d901e9ca-5421-4644-a96b-ef721b736994')\"\n",
              "              title=\"Convert this dataframe to an interactive table.\"\n",
              "              style=\"display:none;\">\n",
              "        \n",
              "  <svg xmlns=\"http://www.w3.org/2000/svg\" height=\"24px\"viewBox=\"0 0 24 24\"\n",
              "       width=\"24px\">\n",
              "    <path d=\"M0 0h24v24H0V0z\" fill=\"none\"/>\n",
              "    <path d=\"M18.56 5.44l.94 2.06.94-2.06 2.06-.94-2.06-.94-.94-2.06-.94 2.06-2.06.94zm-11 1L8.5 8.5l.94-2.06 2.06-.94-2.06-.94L8.5 2.5l-.94 2.06-2.06.94zm10 10l.94 2.06.94-2.06 2.06-.94-2.06-.94-.94-2.06-.94 2.06-2.06.94z\"/><path d=\"M17.41 7.96l-1.37-1.37c-.4-.4-.92-.59-1.43-.59-.52 0-1.04.2-1.43.59L10.3 9.45l-7.72 7.72c-.78.78-.78 2.05 0 2.83L4 21.41c.39.39.9.59 1.41.59.51 0 1.02-.2 1.41-.59l7.78-7.78 2.81-2.81c.8-.78.8-2.07 0-2.86zM5.41 20L4 18.59l7.72-7.72 1.47 1.35L5.41 20z\"/>\n",
              "  </svg>\n",
              "      </button>\n",
              "      \n",
              "  <style>\n",
              "    .colab-df-container {\n",
              "      display:flex;\n",
              "      flex-wrap:wrap;\n",
              "      gap: 12px;\n",
              "    }\n",
              "\n",
              "    .colab-df-convert {\n",
              "      background-color: #E8F0FE;\n",
              "      border: none;\n",
              "      border-radius: 50%;\n",
              "      cursor: pointer;\n",
              "      display: none;\n",
              "      fill: #1967D2;\n",
              "      height: 32px;\n",
              "      padding: 0 0 0 0;\n",
              "      width: 32px;\n",
              "    }\n",
              "\n",
              "    .colab-df-convert:hover {\n",
              "      background-color: #E2EBFA;\n",
              "      box-shadow: 0px 1px 2px rgba(60, 64, 67, 0.3), 0px 1px 3px 1px rgba(60, 64, 67, 0.15);\n",
              "      fill: #174EA6;\n",
              "    }\n",
              "\n",
              "    [theme=dark] .colab-df-convert {\n",
              "      background-color: #3B4455;\n",
              "      fill: #D2E3FC;\n",
              "    }\n",
              "\n",
              "    [theme=dark] .colab-df-convert:hover {\n",
              "      background-color: #434B5C;\n",
              "      box-shadow: 0px 1px 3px 1px rgba(0, 0, 0, 0.15);\n",
              "      filter: drop-shadow(0px 1px 2px rgba(0, 0, 0, 0.3));\n",
              "      fill: #FFFFFF;\n",
              "    }\n",
              "  </style>\n",
              "\n",
              "      <script>\n",
              "        const buttonEl =\n",
              "          document.querySelector('#df-d901e9ca-5421-4644-a96b-ef721b736994 button.colab-df-convert');\n",
              "        buttonEl.style.display =\n",
              "          google.colab.kernel.accessAllowed ? 'block' : 'none';\n",
              "\n",
              "        async function convertToInteractive(key) {\n",
              "          const element = document.querySelector('#df-d901e9ca-5421-4644-a96b-ef721b736994');\n",
              "          const dataTable =\n",
              "            await google.colab.kernel.invokeFunction('convertToInteractive',\n",
              "                                                     [key], {});\n",
              "          if (!dataTable) return;\n",
              "\n",
              "          const docLinkHtml = 'Like what you see? Visit the ' +\n",
              "            '<a target=\"_blank\" href=https://colab.research.google.com/notebooks/data_table.ipynb>data table notebook</a>'\n",
              "            + ' to learn more about interactive tables.';\n",
              "          element.innerHTML = '';\n",
              "          dataTable['output_type'] = 'display_data';\n",
              "          await google.colab.output.renderOutput(dataTable, element);\n",
              "          const docLink = document.createElement('div');\n",
              "          docLink.innerHTML = docLinkHtml;\n",
              "          element.appendChild(docLink);\n",
              "        }\n",
              "      </script>\n",
              "    </div>\n",
              "  </div>\n",
              "  "
            ]
          },
          "metadata": {},
          "execution_count": 6
        }
      ]
    },
    {
      "cell_type": "markdown",
      "source": [
        "### Data Preprocessing"
      ],
      "metadata": {
        "id": "lHeH2uJH_HiM"
      }
    },
    {
      "cell_type": "code",
      "source": [
        "def format_data(data):\n",
        "\n",
        "  last_col = str(data.columns[-1])\n",
        "  first_col = str(data.columns[0])\n",
        "\n",
        "  data.rename(columns = {last_col: 'tweet_text', first_col: 'polarity'}, inplace=True) \n",
        "\n",
        "  # Change 0, 2, 4 to negative, neutral and positive\n",
        "  labels = {0: 'negative', 2: 'neutral', 4: 'positive'}\n",
        "  data['polarity'] = data['polarity'].map(labels)\n",
        "\n",
        "  # Get only the two columns\n",
        "  return data[['tweet_text', 'polarity']]"
      ],
      "metadata": {
        "id": "uYzhmfi7_Emz"
      },
      "execution_count": 7,
      "outputs": []
    },
    {
      "cell_type": "code",
      "source": [
        "# Apply the transformation\n",
        "data = format_data(sentiment_data)\n",
        "data.sample(3)"
      ],
      "metadata": {
        "colab": {
          "base_uri": "https://localhost:8080/",
          "height": 143
        },
        "id": "r8KopY4t_Jmo",
        "outputId": "79639004-34cc-432a-c961-7307179a61ce"
      },
      "execution_count": 8,
      "outputs": [
        {
          "output_type": "execute_result",
          "data": {
            "text/plain": [
              "                                            tweet_text  polarity\n",
              "278  RT @justindavey: RT @tweetmeme GM OnStar now i...   neutral\n",
              "325                        LAKERS tonight let's go!!!!  positive\n",
              "26   Booz Allen Hamilton has a bad ass homegrown so...  positive"
            ],
            "text/html": [
              "\n",
              "  <div id=\"df-9f3d78f3-4bff-48da-adb0-559f3594a922\">\n",
              "    <div class=\"colab-df-container\">\n",
              "      <div>\n",
              "<style scoped>\n",
              "    .dataframe tbody tr th:only-of-type {\n",
              "        vertical-align: middle;\n",
              "    }\n",
              "\n",
              "    .dataframe tbody tr th {\n",
              "        vertical-align: top;\n",
              "    }\n",
              "\n",
              "    .dataframe thead th {\n",
              "        text-align: right;\n",
              "    }\n",
              "</style>\n",
              "<table border=\"1\" class=\"dataframe\">\n",
              "  <thead>\n",
              "    <tr style=\"text-align: right;\">\n",
              "      <th></th>\n",
              "      <th>tweet_text</th>\n",
              "      <th>polarity</th>\n",
              "    </tr>\n",
              "  </thead>\n",
              "  <tbody>\n",
              "    <tr>\n",
              "      <th>278</th>\n",
              "      <td>RT @justindavey: RT @tweetmeme GM OnStar now i...</td>\n",
              "      <td>neutral</td>\n",
              "    </tr>\n",
              "    <tr>\n",
              "      <th>325</th>\n",
              "      <td>LAKERS tonight let's go!!!!</td>\n",
              "      <td>positive</td>\n",
              "    </tr>\n",
              "    <tr>\n",
              "      <th>26</th>\n",
              "      <td>Booz Allen Hamilton has a bad ass homegrown so...</td>\n",
              "      <td>positive</td>\n",
              "    </tr>\n",
              "  </tbody>\n",
              "</table>\n",
              "</div>\n",
              "      <button class=\"colab-df-convert\" onclick=\"convertToInteractive('df-9f3d78f3-4bff-48da-adb0-559f3594a922')\"\n",
              "              title=\"Convert this dataframe to an interactive table.\"\n",
              "              style=\"display:none;\">\n",
              "        \n",
              "  <svg xmlns=\"http://www.w3.org/2000/svg\" height=\"24px\"viewBox=\"0 0 24 24\"\n",
              "       width=\"24px\">\n",
              "    <path d=\"M0 0h24v24H0V0z\" fill=\"none\"/>\n",
              "    <path d=\"M18.56 5.44l.94 2.06.94-2.06 2.06-.94-2.06-.94-.94-2.06-.94 2.06-2.06.94zm-11 1L8.5 8.5l.94-2.06 2.06-.94-2.06-.94L8.5 2.5l-.94 2.06-2.06.94zm10 10l.94 2.06.94-2.06 2.06-.94-2.06-.94-.94-2.06-.94 2.06-2.06.94z\"/><path d=\"M17.41 7.96l-1.37-1.37c-.4-.4-.92-.59-1.43-.59-.52 0-1.04.2-1.43.59L10.3 9.45l-7.72 7.72c-.78.78-.78 2.05 0 2.83L4 21.41c.39.39.9.59 1.41.59.51 0 1.02-.2 1.41-.59l7.78-7.78 2.81-2.81c.8-.78.8-2.07 0-2.86zM5.41 20L4 18.59l7.72-7.72 1.47 1.35L5.41 20z\"/>\n",
              "  </svg>\n",
              "      </button>\n",
              "      \n",
              "  <style>\n",
              "    .colab-df-container {\n",
              "      display:flex;\n",
              "      flex-wrap:wrap;\n",
              "      gap: 12px;\n",
              "    }\n",
              "\n",
              "    .colab-df-convert {\n",
              "      background-color: #E8F0FE;\n",
              "      border: none;\n",
              "      border-radius: 50%;\n",
              "      cursor: pointer;\n",
              "      display: none;\n",
              "      fill: #1967D2;\n",
              "      height: 32px;\n",
              "      padding: 0 0 0 0;\n",
              "      width: 32px;\n",
              "    }\n",
              "\n",
              "    .colab-df-convert:hover {\n",
              "      background-color: #E2EBFA;\n",
              "      box-shadow: 0px 1px 2px rgba(60, 64, 67, 0.3), 0px 1px 3px 1px rgba(60, 64, 67, 0.15);\n",
              "      fill: #174EA6;\n",
              "    }\n",
              "\n",
              "    [theme=dark] .colab-df-convert {\n",
              "      background-color: #3B4455;\n",
              "      fill: #D2E3FC;\n",
              "    }\n",
              "\n",
              "    [theme=dark] .colab-df-convert:hover {\n",
              "      background-color: #434B5C;\n",
              "      box-shadow: 0px 1px 3px 1px rgba(0, 0, 0, 0.15);\n",
              "      filter: drop-shadow(0px 1px 2px rgba(0, 0, 0, 0.3));\n",
              "      fill: #FFFFFF;\n",
              "    }\n",
              "  </style>\n",
              "\n",
              "      <script>\n",
              "        const buttonEl =\n",
              "          document.querySelector('#df-9f3d78f3-4bff-48da-adb0-559f3594a922 button.colab-df-convert');\n",
              "        buttonEl.style.display =\n",
              "          google.colab.kernel.accessAllowed ? 'block' : 'none';\n",
              "\n",
              "        async function convertToInteractive(key) {\n",
              "          const element = document.querySelector('#df-9f3d78f3-4bff-48da-adb0-559f3594a922');\n",
              "          const dataTable =\n",
              "            await google.colab.kernel.invokeFunction('convertToInteractive',\n",
              "                                                     [key], {});\n",
              "          if (!dataTable) return;\n",
              "\n",
              "          const docLinkHtml = 'Like what you see? Visit the ' +\n",
              "            '<a target=\"_blank\" href=https://colab.research.google.com/notebooks/data_table.ipynb>data table notebook</a>'\n",
              "            + ' to learn more about interactive tables.';\n",
              "          element.innerHTML = '';\n",
              "          dataTable['output_type'] = 'display_data';\n",
              "          await google.colab.output.renderOutput(dataTable, element);\n",
              "          const docLink = document.createElement('div');\n",
              "          docLink.innerHTML = docLinkHtml;\n",
              "          element.appendChild(docLink);\n",
              "        }\n",
              "      </script>\n",
              "    </div>\n",
              "  </div>\n",
              "  "
            ]
          },
          "metadata": {},
          "execution_count": 8
        }
      ]
    },
    {
      "cell_type": "code",
      "source": [
        ""
      ],
      "metadata": {
        "id": "khoAl4AF_L1S"
      },
      "execution_count": null,
      "outputs": []
    },
    {
      "cell_type": "markdown",
      "source": [
        "## Comparative Analysis"
      ],
      "metadata": {
        "id": "oEDgylDi_Q4p"
      }
    },
    {
      "cell_type": "markdown",
      "source": [
        "### Helper Functions"
      ],
      "metadata": {
        "id": "CtWPyHMp_T-O"
      }
    },
    {
      "cell_type": "code",
      "source": [
        "def format_VADER_output(output_dict):\n",
        "  \n",
        "  polarity = \"neutral\"\n",
        "\n",
        "  if(output_dict['compound']>= 0.05):\n",
        "    polarity = \"positive\"\n",
        "\n",
        "  elif(output_dict['compound']<= -0.05):\n",
        "    polarity = \"negative\"\n",
        "\n",
        "  return polarity\n",
        "\n",
        "def predict_VADER_sentiment(text):\n",
        "  \n",
        "  output_dict =  sent_analyzer.polarity_scores(text)\n",
        "  return format_VADER_output(output_dict)"
      ],
      "metadata": {
        "id": "o7u8_zMK_SkG"
      },
      "execution_count": 9,
      "outputs": []
    },
    {
      "cell_type": "code",
      "source": [
        "def format_TextBlob_output(prediction):\n",
        "  \n",
        "  polarity = \"neutral\"\n",
        "\n",
        "  if(prediction.polarity > 0):\n",
        "    polarity = \"positive\"\n",
        "\n",
        "  elif(prediction.polarity < 0):\n",
        "    polarity = \"negative\"\n",
        "\n",
        "  return polarity\n",
        "\n",
        "def predict_Textblob_sentiment(text):\n",
        "  \n",
        "  text_blob_prediction =  TextBlob(text).sentiment\n",
        "  return format_TextBlob_output(text_blob_prediction)"
      ],
      "metadata": {
        "id": "123Zrro3_YhY"
      },
      "execution_count": 10,
      "outputs": []
    },
    {
      "cell_type": "code",
      "source": [
        ""
      ],
      "metadata": {
        "id": "8PmjNVqu_ZIy"
      },
      "execution_count": null,
      "outputs": []
    },
    {
      "cell_type": "markdown",
      "source": [
        "### Predictions Result"
      ],
      "metadata": {
        "id": "ygy0CNDz_b1S"
      }
    },
    {
      "cell_type": "code",
      "source": [
        "from sklearn.metrics import accuracy_score, classification_report\n",
        "\n",
        "## VADER SECTION\n",
        "data[\"vader_prediction\"] = data[\"tweet_text\"].apply(predict_VADER_sentiment)\n",
        "vader_accuracy = accuracy_score(data['polarity'], data['vader_prediction'])\n",
        "\n",
        "## TextBlob SECTIOB\n",
        "data[\"textblob_prediction\"] = data[\"tweet_text\"].apply(predict_Textblob_sentiment)\n",
        "textblob_accuracy = accuracy_score(data['polarity'], data['textblob_prediction'])\n",
        "\n",
        "\n",
        "## Print the results\n",
        "print(\"Accuracy Scores\")\n",
        "print(\"- VADER: {}\".format(vader_accuracy))\n",
        "print(\"- Textblob: {}\".format(textblob_accuracy))\n",
        "print(\"-\"*50)\n",
        "print(\"Classification report\")\n",
        "print(\"- VADER\")\n",
        "print(classification_report(data['polarity'], data['vader_prediction']))\n",
        "print(\"\\n\")\n",
        "\n",
        "print(\"- TextBlob\")\n",
        "print(classification_report(data['polarity'], data['textblob_prediction']))"
      ],
      "metadata": {
        "colab": {
          "base_uri": "https://localhost:8080/"
        },
        "id": "rk7UPqvb_dmi",
        "outputId": "25b43881-fc06-4cb6-ec24-a974a63f451a"
      },
      "execution_count": 11,
      "outputs": [
        {
          "output_type": "stream",
          "name": "stderr",
          "text": [
            "/usr/local/lib/python3.7/dist-packages/ipykernel_launcher.py:4: SettingWithCopyWarning: \n",
            "A value is trying to be set on a copy of a slice from a DataFrame.\n",
            "Try using .loc[row_indexer,col_indexer] = value instead\n",
            "\n",
            "See the caveats in the documentation: https://pandas.pydata.org/pandas-docs/stable/user_guide/indexing.html#returning-a-view-versus-a-copy\n",
            "  after removing the cwd from sys.path.\n"
          ]
        },
        {
          "output_type": "stream",
          "name": "stdout",
          "text": [
            "Accuracy Scores\n",
            "- VADER: 0.716297786720322\n",
            "- Textblob: 0.6498993963782697\n",
            "--------------------------------------------------\n",
            "Classification report\n",
            "- VADER\n",
            "              precision    recall  f1-score   support\n",
            "\n",
            "    negative       0.84      0.64      0.72       177\n",
            "     neutral       0.66      0.70      0.68       139\n",
            "    positive       0.68      0.81      0.74       181\n",
            "\n",
            "    accuracy                           0.72       497\n",
            "   macro avg       0.73      0.71      0.71       497\n",
            "weighted avg       0.73      0.72      0.72       497\n",
            "\n",
            "\n",
            "\n",
            "- TextBlob\n",
            "              precision    recall  f1-score   support\n",
            "\n",
            "    negative       0.80      0.49      0.60       177\n",
            "     neutral       0.61      0.68      0.64       139\n",
            "    positive       0.61      0.79      0.69       181\n",
            "\n",
            "    accuracy                           0.65       497\n",
            "   macro avg       0.67      0.65      0.64       497\n",
            "weighted avg       0.68      0.65      0.64       497\n",
            "\n"
          ]
        },
        {
          "output_type": "stream",
          "name": "stderr",
          "text": [
            "/usr/local/lib/python3.7/dist-packages/ipykernel_launcher.py:8: SettingWithCopyWarning: \n",
            "A value is trying to be set on a copy of a slice from a DataFrame.\n",
            "Try using .loc[row_indexer,col_indexer] = value instead\n",
            "\n",
            "See the caveats in the documentation: https://pandas.pydata.org/pandas-docs/stable/user_guide/indexing.html#returning-a-view-versus-a-copy\n",
            "  \n"
          ]
        }
      ]
    },
    {
      "cell_type": "code",
      "source": [
        ""
      ],
      "metadata": {
        "id": "tG74YSaI_d_b"
      },
      "execution_count": null,
      "outputs": []
    }
  ]
}